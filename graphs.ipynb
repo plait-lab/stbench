{
 "cells": [
  {
   "cell_type": "code",
   "execution_count": null,
   "metadata": {},
   "outputs": [],
   "source": [
    "%pip install -q matplotlib==3.8.3"
   ]
  },
  {
   "cell_type": "code",
   "execution_count": null,
   "metadata": {},
   "outputs": [],
   "source": [
    "import csv\n",
    "import os\n",
    "\n",
    "from itertools import pairwise\n",
    "from pathlib import Path\n",
    "\n",
    "import numpy as np\n",
    "\n",
    "from matplotlib import pyplot as plt\n",
    "from matplotlib import colors\n",
    "from matplotlib import cm\n",
    "\n",
    "from mpl_toolkits.axes_grid1 import inset_locator"
   ]
  },
  {
   "cell_type": "code",
   "execution_count": null,
   "metadata": {},
   "outputs": [],
   "source": [
    "RESULTS = Path(os.environ.get('RESULTS', 'results/corpus'))\n",
    "CHARTS = Path(os.environ.get('CHARTS', 'charts.pdf'))\n",
    "\n",
    "assert RESULTS.exists()"
   ]
  },
  {
   "cell_type": "code",
   "execution_count": null,
   "metadata": {},
   "outputs": [],
   "source": [
    "def load(name: str):\n",
    "    with (RESULTS / name).with_suffix('.csv').open() as file:\n",
    "        yield from csv.reader(file)\n",
    "\n",
    "\n",
    "partials = {(language, queries[0]): list(reversed(queries))\n",
    "            for language, *queries in load('partials')}\n",
    "\n",
    "matches = {(language, query): list(map(int, vs))\n",
    "           for language, query, *vs in load('matches') if any(vs)}\n",
    "\n",
    "progress = {(language, query): list(map(int, vs))\n",
    "            for language, query, *vs in load('progress') if int(vs[-1])}"
   ]
  },
  {
   "cell_type": "code",
   "execution_count": null,
   "metadata": {},
   "outputs": [],
   "source": [
    "# `$_ is tokenized by Pygments as three (instead of 2) tokens :/\n",
    "\n",
    "for k in progress:\n",
    "    if not all(progress[k]):\n",
    "        drop = [i for i, t in enumerate(progress[k]) if not t]\n",
    "        print('warning: dropping unrecognized tokens at offsets:',\n",
    "              *(len(partials[k][i-1]) for i in drop), '\\tfor', k[1])\n",
    "\n",
    "        partials[k] = [p for i, p in enumerate(partials[k]) if i not in drop]\n",
    "        progress[k] = [p for i, p in enumerate(progress[k]) if i not in drop]"
   ]
  },
  {
   "cell_type": "code",
   "execution_count": null,
   "metadata": {},
   "outputs": [],
   "source": [
    "width, aspect = 8.5, 9/16\n",
    "def size(w): return (w, w * aspect)\n",
    "\n",
    "\n",
    "full = size(width)\n",
    "small = size(width * .49)\n",
    "\n",
    "plt.rcParams['figure.autolayout'] = True\n",
    "plt.rcParams['pdf.fonttype'] = 42\n",
    "\n",
    "paper = []"
   ]
  },
  {
   "cell_type": "code",
   "execution_count": null,
   "metadata": {},
   "outputs": [],
   "source": [
    "diffs = np.array(list(matches.values()))\n",
    "\n",
    "semgrep = diffs[:, 1] + diffs[:, 2]\n",
    "excluded = 100 * diffs[:, 2] / semgrep\n",
    "\n",
    "stsearch = diffs[:, 0] + diffs[:, 1]\n",
    "included = 100 * diffs[:, 0] / stsearch\n",
    "\n",
    "for total, rate, tool, name in [\n",
    "    (semgrep, excluded, 'Semgrep', 'excluded in stsearch'),\n",
    "    (stsearch, included, 'stsearch', 'not in Semgrep'),\n",
    "]:\n",
    "    fig = plt.figure(figsize=small)\n",
    "    ax = fig.add_subplot()\n",
    "\n",
    "    ax.set_ylabel(f'% {name}')\n",
    "    ax.set_xlabel(f'# {tool} unique matches')\n",
    "    ax.tick_params(axis='both', which='major')\n",
    "    ax.set_xscale('log')\n",
    "\n",
    "    ax.scatter(total, rate, label='query',\n",
    "               color='blue', alpha=.5)\n",
    "\n",
    "    ax.legend()\n",
    "\n",
    "    paper.append(fig)"
   ]
  },
  {
   "cell_type": "code",
   "execution_count": null,
   "metadata": {},
   "outputs": [],
   "source": [
    "assert all(p >= n for ts in progress.values() for p, n in pairwise(ts))\n",
    "\n",
    "\n",
    "def toks(prefixes: list[str], init=''):\n",
    "    for syntax in prefixes:\n",
    "        assert syntax.startswith(init)\n",
    "        yield syntax[len(init):]\n",
    "        init = syntax\n",
    "\n",
    "\n",
    "queries = np.array(list(progress), dtype=object)\n",
    "lengths = np.array(list(map(len, progress.values())))\n",
    "final = np.array([vs[-1] for vs in progress.values()])\n",
    "\n",
    "shape = len(progress), max(lengths)\n",
    "tokens = np.full(shape, '', dtype=object)\n",
    "results = np.full(shape, np.nan)\n",
    "complete = np.full(shape, np.False_)\n",
    "\n",
    "for i, (q, vs) in enumerate(progress.items()):\n",
    "    tokens[i, :len(vs)] = list(toks(partials[q]))\n",
    "    results[i, :len(vs)] = vs\n",
    "    complete[i, len(vs)-1] = np.True_\n",
    "\n",
    "# implies sorting by length!\n",
    "order = np.lexsort(tokens.T)\n",
    "\n",
    "queries = queries[order]\n",
    "lengths, final = lengths[order], final[order]\n",
    "tokens, results = tokens[order], results[order]\n",
    "complete = complete[order]"
   ]
  },
  {
   "cell_type": "code",
   "execution_count": null,
   "metadata": {},
   "outputs": [],
   "source": [
    "firsts = np.full(len(results), np.nanmax(results))\n",
    "previous = np.hstack((firsts[:, None], results[:, :-1]))\n",
    "\n",
    "selective = 1 - (results / previous)\n",
    "empty = np.full_like(selective, np.False_, dtype=bool)\n",
    "\n",
    "partial = final[:, None] / results\n",
    "\n",
    "heatmaps = []\n",
    "for data, progression, mask, color in [\n",
    "    (selective, ['whitesmoke', 'xkcd:violet'], empty, 'gray'),\n",
    "    (partial, ['whitesmoke', 'green'], complete, 'blue'),\n",
    "]:\n",
    "    assert results.shape == partial.shape == mask.shape\n",
    "\n",
    "    colormap = colors.LinearSegmentedColormap.from_list('Quality', progression)\n",
    "\n",
    "    heatmap = colormap(data)\n",
    "    heatmap[mask] = colors.to_rgba(color)\n",
    "    heatmaps.append(heatmap)\n",
    "\n",
    "    fig = plt.figure(figsize=full)\n",
    "    ax = fig.add_subplot()\n",
    "\n",
    "    ax.imshow(heatmap, interpolation='nearest', aspect='auto')\n",
    "\n",
    "    ax.set_xticks(ticks := np.arange(heatmap.shape[1]))\n",
    "    ax.set_xticklabels([f'{t+1}' for t in ticks])\n",
    "    ax.tick_params(left=False, labelleft=False, bottom=False)\n",
    "\n",
    "    ax.set_xticks(np.arange(-.5, heatmap.shape[1]+.5), minor=True)\n",
    "    ax.set_yticks(np.arange(-.5, heatmap.shape[0]+.5), minor=True)\n",
    "    ax.tick_params(which='minor', left=False, bottom=False)\n",
    "    ax.grid(which='minor', color='w', linestyle='-')\n",
    "\n",
    "    ax.set_ylabel('each query, sorted by tokens')\n",
    "    ax.set_xlabel('searched prefix token length')\n",
    "\n",
    "    cax = inset_locator.inset_axes(ax, width='40%', height='5%', borderpad=2)\n",
    "    bar = fig.colorbar(cm.ScalarMappable(colors.Normalize(0, 100), colormap),\n",
    "                       cax=cax, orientation='horizontal')\n",
    "\n",
    "    bar.set_ticks(ticks := bar.get_ticks())  # type: ignore\n",
    "    bar.set_ticklabels([f'{t:.0f}%' for t in ticks])\n",
    "\n",
    "    for axis in (ax, cax):\n",
    "        for spine in axis.spines.values():\n",
    "            spine.set_visible(False)\n",
    "\n",
    "    paper.append(fig)"
   ]
  },
  {
   "cell_type": "code",
   "execution_count": null,
   "metadata": {},
   "outputs": [],
   "source": [
    "from matplotlib.backends.backend_pdf import PdfPages\n",
    "\n",
    "with PdfPages(CHARTS) as pdf:\n",
    "    for fig in paper:\n",
    "        pdf.savefig(fig)"
   ]
  }
 ],
 "metadata": {
  "kernelspec": {
   "display_name": ".venv",
   "language": "python",
   "name": "python3"
  },
  "language_info": {
   "codemirror_mode": {
    "name": "ipython",
    "version": 3
   },
   "file_extension": ".py",
   "mimetype": "text/x-python",
   "name": "python",
   "nbconvert_exporter": "python",
   "pygments_lexer": "ipython3",
   "version": "3.11.8"
  }
 },
 "nbformat": 4,
 "nbformat_minor": 2
}
